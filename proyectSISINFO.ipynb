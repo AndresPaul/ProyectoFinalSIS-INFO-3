{
 "cells": [
  {
   "cell_type": "code",
   "execution_count": 14,
   "metadata": {},
   "outputs": [],
   "source": [
    "import os\n",
    "import nltk\n",
    "\n",
    "import pandas as pd\n",
    "import numpy as np\n",
    "import matplotlib.pyplot as plt\n",
    "import seaborn as sns\n",
    "from nltk import word_tokenize\n",
    "from nltk.corpus import stopwords\n",
    "import string\n",
    "from sklearn.feature_extraction.text import CountVectorizer\n",
    "\n",
    "\n"
   ]
  },
  {
   "cell_type": "code",
   "execution_count": 15,
   "metadata": {},
   "outputs": [],
   "source": [
    "comentarios_Peliculas = pd.read_csv(os.path.join(\"data/imdb_dataset.csv\"),encoding=\"latin-1\").sample(10000,replace=False) "
   ]
  },
  {
   "cell_type": "code",
   "execution_count": 16,
   "metadata": {
    "scrolled": true
   },
   "outputs": [
    {
     "name": "stdout",
     "output_type": "stream",
     "text": [
      "                                                  Review Label\n",
      "969    Director/lead Larry Bishop tried way, way too ...   neg\n",
      "44998  The year is 1896.Jeff Webster (James Stewart) ...   pos\n",
      "21800  There are few films that deal with things that...   pos\n",
      "11372  First, let me state that I have no idea who No...   neg\n",
      "26214  If this movie was about a fictional character,...   neg\n",
      "...                                                  ...   ...\n",
      "42124  We toss around the term \"superstar\" way too li...   pos\n",
      "39088  till HBO began rerunning it this month. I reme...   pos\n",
      "22663  let's face it, you know what to expect when yo...   pos\n",
      "20790  When I first saw Colleen Moore it was in the e...   pos\n",
      "10939  The other day I showed my boyfriend a great mo...   neg\n",
      "\n",
      "[10000 rows x 2 columns]\n"
     ]
    }
   ],
   "source": [
    "print(comentarios_Peliculas)"
   ]
  },
  {
   "cell_type": "code",
   "execution_count": 32,
   "metadata": {},
   "outputs": [
    {
     "name": "stdout",
     "output_type": "stream",
     "text": [
      "[\"director/lead larry bishop tried way way hard hell ride movie wants edgy witty provocative outlandish biting seemingly quentin tarantino/rob zombie style 's edgy references seem forced dialog tries clever fails humor never funny nice try setting gritty tone 'd care characters story remotely succeed. br br 're left cool harleys pretty girls surrounding bunch tired old shape `` bad boys '' looks like attempt modernized sergio leone western movie make newer generations interested 60s 70s films kudos rather boring irrelevant believe place style substance movie\", \"year 1896.jeff webster james stewart n't like people.there 's one friend 's got 's ben tatum walter brennan old sympathetic man.they 're driving cattle herd them.that would key richness.in skagway run trouble sheriff gannon john mcintire takes cattle.now jeff get back drive u.s. canadian border dawson.now group people like ladies ronda castle ruth roman renee vallon corinne calvet .there two men get gold business.anthony mann 's james stewart 's fourth collaboration far country 1954 fine western indeed.the acting work superb.walter brennan makes terrific sidekick stewart.ruth roman brilliant corinne calvet 's delightful.jay c. flippen good dawson marshal rube morris.the great jack elam kathleen freeman seen smaller roles.it 's fantastic watch jimmy stewart overcome 's troubles way.there 's man rifle.but also 's vulnerable\", \"films deal things would consider expert one is. br br years fantasy role playing split leaving without sense shame become dork. br br see things really canonical happens everybody. br br first create character fairly dies first attack. br br help little constitution 're help strength intelligence intuition charisma dexterity turn frustrates game master n't know deal invincible gang bores players start create ever exotic race-profession combinations matter ludicrous is. br br created druedain warrior monk yeah far film. br br 's said destructiveness inherent dynamic devilish game think hunt experience points watch film shows course stupidity basic premisses. br br end turn better profession bard n't exactly understand bard became character first place blacksmith none became one mapped game flow made lethal least indirectly poking fun never comes end rightfully so. br br sure 's exactly professional production n't seen better satire ages\", \"first let state idea nora roberts book may great movie isn't. br br spent entire life living peidmont region nc never heard southern accents ridiculous ones movie lived two small nc towns charlotte raleigh occasion meet people strong southern accent never encountered town everyone talks like bad imitation gone wind. br br response gore_won atheist community comments reveal warped psyche movie stretch imaginations pretend anything realistic movie n't truth bad people tory 's father always find justification actions author chose religion counter tory 's supernatural abilities supposition `` true character gospels '' directs man beat daughter perverse misinformed interpretation ever heard start spouting gospels maybe read first. br br back movie dialog flat unnatural unbelievable time particular many things kade said tory inappropriate match mood context way said. br br `` exciting twist '' end movie lame predictable lacks credibility also claimed jacqueline bisset wonderful job movie truth bitter mother character also stale predictable one-dimensional character bisset 's fault n't know. br br choice watching movie twenty year old rerun muppet show recommend muppet show\", \"movie fictional character movie could stand judged objectively unfortunately viewer movie based `` facts '' shaded unfairly toward ruben carter many smaller facts disregarded carter number one contender time murders proof saved friend child molester youth larger facts like apparently robbed decision joey giardello `` racist '' judges inexcusable us seen fight tape completely disrespectful giardello hollywood feels need make hero someone best trouble around trouble much normal person arrested multiple times beating women strange ruben carter never viewing actions 60 's even refuses speak son person people look everyone knows jewison direct washington act chose story vehicle beyond hollywood much need black hero need bend truth bio pics make believable heres suggestion denzel playing movie thats inspirational based inaccuracies movie would suggest passing one\"]\n"
     ]
    }
   ],
   "source": [
    "\"\"\"LIMPIAR DATOS\"\"\"\n",
    "cleanWords=[]\n",
    "for sent in comentarios_Peliculas['Review']:\n",
    "    stop = set(stopwords.words('english') + list(string.punctuation))\n",
    "    cleanWords.append(\" \".join([str(i) for i in word_tokenize(sent.lower()) if i not in stop]))\n",
    "print(cleanWords[:5])\n",
    "\n",
    "        \n",
    "        \n",
    "\n"
   ]
  },
  {
   "cell_type": "code",
   "execution_count": 33,
   "metadata": {},
   "outputs": [
    {
     "name": "stdout",
     "output_type": "stream",
     "text": [
      "[[0 0 0 ... 0 0 0]\n",
      " [0 0 0 ... 0 0 0]\n",
      " [0 0 0 ... 0 0 0]\n",
      " ...\n",
      " [0 0 0 ... 0 0 0]\n",
      " [0 0 0 ... 0 0 0]\n",
      " [0 0 0 ... 0 0 0]]\n"
     ]
    }
   ],
   "source": [
    "\"\"\"ONe hot coding\"\"\"\n",
    "\n",
    "cv = CountVectorizer()\n",
    "cv_matrix = cv.fit_transform(cleanWords)\n",
    "oneHotCoding = np.sign(cv_matrix.toarray())\n",
    "print(oneHotCoding)"
   ]
  },
  {
   "cell_type": "code",
   "execution_count": 34,
   "metadata": {},
   "outputs": [],
   "source": [
    "\"\"\"Vocabulario del problema\"\"\"\n",
    "\n",
    "vocabulary = cv.get_feature_names()\n",
    "with open('vocabularioProblema.txt','w')  as f:\n",
    "    for item in vocabulary:\n",
    "        f.write(\"%s\\n\" % item)\n",
    "\n"
   ]
  },
  {
   "cell_type": "code",
   "execution_count": 35,
   "metadata": {},
   "outputs": [
    {
     "name": "stdout",
     "output_type": "stream",
     "text": [
      "(10000, 52302)\n"
     ]
    },
    {
     "data": {
      "text/html": [
       "<div>\n",
       "<style scoped>\n",
       "    .dataframe tbody tr th:only-of-type {\n",
       "        vertical-align: middle;\n",
       "    }\n",
       "\n",
       "    .dataframe tbody tr th {\n",
       "        vertical-align: top;\n",
       "    }\n",
       "\n",
       "    .dataframe thead th {\n",
       "        text-align: right;\n",
       "    }\n",
       "</style>\n",
       "<table border=\"1\" class=\"dataframe\">\n",
       "  <thead>\n",
       "    <tr style=\"text-align: right;\">\n",
       "      <th></th>\n",
       "      <th>00</th>\n",
       "      <th>000</th>\n",
       "      <th>00000001</th>\n",
       "      <th>001</th>\n",
       "      <th>003830</th>\n",
       "      <th>007</th>\n",
       "      <th>0079</th>\n",
       "      <th>0083</th>\n",
       "      <th>009</th>\n",
       "      <th>00am</th>\n",
       "      <th>...</th>\n",
       "      <th>zy</th>\n",
       "      <th>zzzz</th>\n",
       "      <th>zzzzzzzzzzzzzzzzzz</th>\n",
       "      <th>zã</th>\n",
       "      <th>â½</th>\n",
       "      <th>â¾</th>\n",
       "      <th>ã¼ber</th>\n",
       "      <th>ã¼bermensch</th>\n",
       "      <th>ã½</th>\n",
       "      <th>ã½s</th>\n",
       "    </tr>\n",
       "  </thead>\n",
       "  <tbody>\n",
       "    <tr>\n",
       "      <th>0</th>\n",
       "      <td>0</td>\n",
       "      <td>0</td>\n",
       "      <td>0</td>\n",
       "      <td>0</td>\n",
       "      <td>0</td>\n",
       "      <td>0</td>\n",
       "      <td>0</td>\n",
       "      <td>0</td>\n",
       "      <td>0</td>\n",
       "      <td>0</td>\n",
       "      <td>...</td>\n",
       "      <td>0</td>\n",
       "      <td>0</td>\n",
       "      <td>0</td>\n",
       "      <td>0</td>\n",
       "      <td>0</td>\n",
       "      <td>0</td>\n",
       "      <td>0</td>\n",
       "      <td>0</td>\n",
       "      <td>0</td>\n",
       "      <td>0</td>\n",
       "    </tr>\n",
       "    <tr>\n",
       "      <th>1</th>\n",
       "      <td>0</td>\n",
       "      <td>0</td>\n",
       "      <td>0</td>\n",
       "      <td>0</td>\n",
       "      <td>0</td>\n",
       "      <td>0</td>\n",
       "      <td>0</td>\n",
       "      <td>0</td>\n",
       "      <td>0</td>\n",
       "      <td>0</td>\n",
       "      <td>...</td>\n",
       "      <td>0</td>\n",
       "      <td>0</td>\n",
       "      <td>0</td>\n",
       "      <td>0</td>\n",
       "      <td>0</td>\n",
       "      <td>0</td>\n",
       "      <td>0</td>\n",
       "      <td>0</td>\n",
       "      <td>0</td>\n",
       "      <td>0</td>\n",
       "    </tr>\n",
       "    <tr>\n",
       "      <th>2</th>\n",
       "      <td>0</td>\n",
       "      <td>0</td>\n",
       "      <td>0</td>\n",
       "      <td>0</td>\n",
       "      <td>0</td>\n",
       "      <td>0</td>\n",
       "      <td>0</td>\n",
       "      <td>0</td>\n",
       "      <td>0</td>\n",
       "      <td>0</td>\n",
       "      <td>...</td>\n",
       "      <td>0</td>\n",
       "      <td>0</td>\n",
       "      <td>0</td>\n",
       "      <td>0</td>\n",
       "      <td>0</td>\n",
       "      <td>0</td>\n",
       "      <td>0</td>\n",
       "      <td>0</td>\n",
       "      <td>0</td>\n",
       "      <td>0</td>\n",
       "    </tr>\n",
       "    <tr>\n",
       "      <th>3</th>\n",
       "      <td>0</td>\n",
       "      <td>0</td>\n",
       "      <td>0</td>\n",
       "      <td>0</td>\n",
       "      <td>0</td>\n",
       "      <td>0</td>\n",
       "      <td>0</td>\n",
       "      <td>0</td>\n",
       "      <td>0</td>\n",
       "      <td>0</td>\n",
       "      <td>...</td>\n",
       "      <td>0</td>\n",
       "      <td>0</td>\n",
       "      <td>0</td>\n",
       "      <td>0</td>\n",
       "      <td>0</td>\n",
       "      <td>0</td>\n",
       "      <td>0</td>\n",
       "      <td>0</td>\n",
       "      <td>0</td>\n",
       "      <td>0</td>\n",
       "    </tr>\n",
       "    <tr>\n",
       "      <th>4</th>\n",
       "      <td>0</td>\n",
       "      <td>0</td>\n",
       "      <td>0</td>\n",
       "      <td>0</td>\n",
       "      <td>0</td>\n",
       "      <td>0</td>\n",
       "      <td>0</td>\n",
       "      <td>0</td>\n",
       "      <td>0</td>\n",
       "      <td>0</td>\n",
       "      <td>...</td>\n",
       "      <td>0</td>\n",
       "      <td>0</td>\n",
       "      <td>0</td>\n",
       "      <td>0</td>\n",
       "      <td>0</td>\n",
       "      <td>0</td>\n",
       "      <td>0</td>\n",
       "      <td>0</td>\n",
       "      <td>0</td>\n",
       "      <td>0</td>\n",
       "    </tr>\n",
       "  </tbody>\n",
       "</table>\n",
       "<p>5 rows × 52302 columns</p>\n",
       "</div>"
      ],
      "text/plain": [
       "   00  000  00000001  001  003830  007  0079  0083  009  00am  ...  zy  zzzz  \\\n",
       "0   0    0         0    0       0    0     0     0    0     0  ...   0     0   \n",
       "1   0    0         0    0       0    0     0     0    0     0  ...   0     0   \n",
       "2   0    0         0    0       0    0     0     0    0     0  ...   0     0   \n",
       "3   0    0         0    0       0    0     0     0    0     0  ...   0     0   \n",
       "4   0    0         0    0       0    0     0     0    0     0  ...   0     0   \n",
       "\n",
       "   zzzzzzzzzzzzzzzzzz  zã  â½  â¾  ã¼ber  ã¼bermensch  ã½  ã½s  \n",
       "0                   0   0   0   0      0            0   0    0  \n",
       "1                   0   0   0   0      0            0   0    0  \n",
       "2                   0   0   0   0      0            0   0    0  \n",
       "3                   0   0   0   0      0            0   0    0  \n",
       "4                   0   0   0   0      0            0   0    0  \n",
       "\n",
       "[5 rows x 52302 columns]"
      ]
     },
     "execution_count": 35,
     "metadata": {},
     "output_type": "execute_result"
    }
   ],
   "source": [
    "new_data = pd.DataFrame(oneHotCoding,columns=vocabulary)\n",
    "print(new_data.shape)\n",
    "new_data.head()"
   ]
  },
  {
   "cell_type": "code",
   "execution_count": 44,
   "metadata": {},
   "outputs": [],
   "source": [
    "\"\"\"entrenamiento\"\"\"\n",
    "from sklearn.tree import DecisionTreeClassifier\n",
    "from sklearn.model_selection import train_test_split\n",
    "from sklearn.metrics import accuracy_score,confusion_matrix,precision_score,recall_score,f1_score"
   ]
  },
  {
   "cell_type": "code",
   "execution_count": 45,
   "metadata": {},
   "outputs": [
    {
     "name": "stdout",
     "output_type": "stream",
     "text": [
      "(10000, 52302) (10000,)\n"
     ]
    },
    {
     "data": {
      "text/plain": [
       "969      0\n",
       "44998    1\n",
       "21800    1\n",
       "11372    0\n",
       "26214    0\n",
       "3528     0\n",
       "Name: Label, dtype: int64"
      ]
     },
     "execution_count": 45,
     "metadata": {},
     "output_type": "execute_result"
    }
   ],
   "source": [
    "x = new_data[vocabulary]\n",
    "y = comentarios_Peliculas['Label'].apply(lambda catalogedComment:1 if catalogedComment==\"pos\" else 0)\n",
    "print(x.shape,y.shape)\n",
    "y[:6]"
   ]
  },
  {
   "cell_type": "code",
   "execution_count": 46,
   "metadata": {},
   "outputs": [],
   "source": [
    "def set_training_test_groups(x,y):\n",
    "    size_train = int((x.shape[0]*0.7))\n",
    "    x_train = x.loc[:size_train-1]\n",
    "    y_train = y[:size_train]\n",
    "    x_test = x.loc[size_train:]\n",
    "    y_test = y[size_train:]\n",
    "    return x_train,x_test,y_train,y_test"
   ]
  },
  {
   "cell_type": "code",
   "execution_count": 47,
   "metadata": {},
   "outputs": [
    {
     "name": "stdout",
     "output_type": "stream",
     "text": [
      "training x-> (7000, 52302) y-> (7000,)\n",
      "test x-> (3000, 52302) y-> (3000,)\n"
     ]
    }
   ],
   "source": [
    "x_train,x_test,y_train,y_test = set_training_test_groups(x,y)\n",
    "print(\"training x->\",x_train.shape,\"y->\",y_train.shape)\n",
    "print(\"test x->\",x_test.shape,\"y->\",y_test.shape)"
   ]
  },
  {
   "cell_type": "code",
   "execution_count": 48,
   "metadata": {},
   "outputs": [
    {
     "data": {
      "text/plain": [
       "RandomForestClassifier(n_estimators=40)"
      ]
     },
     "execution_count": 48,
     "metadata": {},
     "output_type": "execute_result"
    }
   ],
   "source": [
    "\"metodo de entrenamiento con arboles de decision\"\n",
    "\"entrenador Ensemble Learning\"\n",
    "\n",
    "from sklearn.ensemble import RandomForestClassifier\n",
    "\n",
    "tree_v1 = RandomForestClassifier(n_estimators=40)\n",
    "\n",
    "tree_v1"
   ]
  },
  {
   "cell_type": "code",
   "execution_count": 49,
   "metadata": {},
   "outputs": [
    {
     "data": {
      "text/plain": [
       "RandomForestClassifier(n_estimators=40)"
      ]
     },
     "execution_count": 49,
     "metadata": {},
     "output_type": "execute_result"
    }
   ],
   "source": [
    "\"entrenar\"\n",
    "tree_v1.fit(x_train,y_train)\n"
   ]
  },
  {
   "cell_type": "code",
   "execution_count": 50,
   "metadata": {},
   "outputs": [
    {
     "name": "stdout",
     "output_type": "stream",
     "text": [
      "accuracy del clasificador - version 2 : 0.82\n",
      "matriz de confusión del clasificador - version 1: \n",
      " [[1227  241]\n",
      " [ 311 1221]]\n",
      "precision del clasificador - version 2 : 0.84\n",
      "recall del clasificador - version 2 : 0.80\n",
      "f1 del clasificador - version 3 : 0.82\n"
     ]
    }
   ],
   "source": [
    "predictions = tree_v1.predict(x_test)\n",
    "# métricas de desempeño\n",
    "# accuracy\n",
    "print('accuracy del clasificador - version 2 : {0:.2f}'.format(accuracy_score(y_test, predictions)))\n",
    "# confusion matrix\n",
    "print('matriz de confusión del clasificador - version 1: \\n {0}'.format(confusion_matrix(y_test, predictions)))\n",
    "# precision \n",
    "print('precision del clasificador - version 2 : {0:.2f}'.format(precision_score(y_test, predictions)))\n",
    "# precision \n",
    "print('recall del clasificador - version 2 : {0:.2f}'.format(recall_score(y_test,predictions)))\n",
    "# f1\n",
    "print('f1 del clasificador - version 3 : {0:.2f}'.format(f1_score(y_test, predictions)))"
   ]
  },
  {
   "cell_type": "code",
   "execution_count": null,
   "metadata": {},
   "outputs": [],
   "source": [
    "\"Guardar el modelo\"\n",
    "\n"
   ]
  }
 ],
 "metadata": {
  "kernelspec": {
   "display_name": "Python 3",
   "language": "python",
   "name": "python3"
  },
  "language_info": {
   "codemirror_mode": {
    "name": "ipython",
    "version": 3
   },
   "file_extension": ".py",
   "mimetype": "text/x-python",
   "name": "python",
   "nbconvert_exporter": "python",
   "pygments_lexer": "ipython3",
   "version": "3.8.3"
  }
 },
 "nbformat": 4,
 "nbformat_minor": 4
}
